{
  "nbformat": 4,
  "nbformat_minor": 0,
  "metadata": {
    "colab": {
      "provenance": []
    },
    "kernelspec": {
      "name": "python3",
      "display_name": "Python 3"
    },
    "language_info": {
      "name": "python"
    }
  },
  "cells": [
    {
      "cell_type": "code",
      "execution_count": null,
      "metadata": {
        "id": "4dHrWnoWDtTn"
      },
      "outputs": [],
      "source": []
    },
    {
      "cell_type": "markdown",
      "source": [
        "#Restful API & Flask\n",
        "\n",
        "Q1. What is a RESTful API?\n",
        "\n",
        "---> A RESTful API (Representational State Transfer) is a web service that uses HTTP methods like GET, POST, PUT, and DELETE to allow communication between systems. It follows REST principles, making it simple, stateless, and easy to use for accessing and manipulating resources (like data) over the web.\n",
        "\n",
        "Q2. Explain the concept of API specification.\n",
        "\n",
        "---> An API specification is a detailed document or blueprint that defines how an API works. It outlines:\n",
        "\n",
        "Endpoints: The URLs used to access the API.\n",
        "\n",
        "Methods: HTTP actions like GET, POST, PUT, DELETE.\n",
        "\n",
        "Request format: What data the client must send (e.g., headers, parameters, body).\n",
        "\n",
        "Response format: What data the server will return (e.g., status codes, JSON structure).\n",
        "\n",
        "Authentication: How users or systems must prove their identity (e.g., API keys, tokens).\n",
        "\n",
        "In short, an API specification ensures developers know how to properly interact with an API without needing to see its internal code. Examples include OpenAPI (Swagger) and RAML.\n",
        "\n",
        "Q3. What is Flask, and why is it popular for building APIs?\n",
        "\n",
        "---> Flask is a lightweight Python web framework used to build web applications and APIs. It is especially popular for building APIs because:\n",
        "\n",
        "Minimal and flexible: It provides the basics, letting developers add only what they need.\n",
        "\n",
        "Easy to learn: Simple syntax and clear structure make it great for beginners and small projects.\n",
        "\n",
        "Built-in support for routing: Makes it easy to define API endpoints.\n",
        "\n",
        "Extensible: Supports many extensions for databases, authentication, and more.\n",
        "\n",
        "Good for rapid development: Ideal for quickly building and testing RESTful APIs.\n",
        "\n",
        "In short, Flask is popular because it’s simple, powerful, and gives developers full control over how they build their APIs.\n",
        "\n",
        "Q4. What is routing in Flask?\n",
        "\n",
        "---> Routing in Flask is the process of mapping URLs to functions in your Python code. These functions are called view functions, and they define what should happen when a user visits a specific URL.\n",
        "\n",
        "Q5. How do you create a simple Flask applicatio?\n",
        "\n",
        "---> To create a simple Flask application, follow these steps:\n",
        "\n",
        "1. Install Flask (if not already installed)\n"
      ],
      "metadata": {
        "id": "myDkjUpbD0AA"
      }
    },
    {
      "cell_type": "code",
      "source": [
        "pip install flask\n"
      ],
      "metadata": {
        "id": "H_enAhaEFNl-"
      },
      "execution_count": null,
      "outputs": []
    },
    {
      "cell_type": "markdown",
      "source": [
        "2. Create a Python file (e.g., app.py) with this code:"
      ],
      "metadata": {
        "id": "6yT3YPV6FOPO"
      }
    },
    {
      "cell_type": "code",
      "source": [
        "from flask import Flask\n",
        "\n",
        "app = Flask(__name__)\n",
        "\n",
        "@app.route('/')\n",
        "def home():\n",
        "    return 'Hello, Flask!'\n",
        "\n",
        "if __name__ == '__main__':\n",
        "    app.run(debug=True)\n"
      ],
      "metadata": {
        "id": "CLkFePCQFRrR"
      },
      "execution_count": null,
      "outputs": []
    },
    {
      "cell_type": "markdown",
      "source": [
        "3. Run the app"
      ],
      "metadata": {
        "id": "FzGqFrjOFVjZ"
      }
    },
    {
      "cell_type": "code",
      "source": [
        "python app.py\n"
      ],
      "metadata": {
        "id": "eYQJDVuQFa7X"
      },
      "execution_count": null,
      "outputs": []
    },
    {
      "cell_type": "markdown",
      "source": [
        "4. Open your browser\n",
        "Visit http://127.0.0.1:5000/ — you'll see \"Hello, Flask!\"\n",
        "\n",
        "This is a basic Flask app with:\n",
        "\n",
        "One route (/)\n",
        "\n",
        "One view function (home) that returns a message\n",
        "\n",
        "\n",
        "Q6. What are HTTP methods used in RESTful APIs?\n",
        "\n",
        "---> The main HTTP methods used in RESTful APIs are:\n",
        "\n",
        "GET – Retrieves data from the server\n",
        "🔹 Example: Get user details\n",
        "\n",
        "POST – Sends data to the server to create a new resource\n",
        "🔹 Example: Create a new user\n",
        "\n",
        "PUT – Updates an existing resource completely\n",
        "🔹 Example: Update all user info\n",
        "\n",
        "PATCH – Updates part of a resource\n",
        "🔹 Example: Update only the user’s email\n",
        "\n",
        "DELETE – Removes a resource from the server\n",
        "🔹 Example: Delete a user\n",
        "\n",
        "These methods align with CRUD operations (Create, Read, Update, Delete) in RESTful design.\n",
        "\n",
        "Q7. What is the purpose of the @app.route() decorator in Flask?\n",
        "\n",
        "---> The @app.route() decorator in Flask is used to link a URL path to a specific function (called a view function).\n",
        "\n",
        "🔹 Purpose:\n",
        "It tells Flask:\n",
        "“When this URL is requested, run this function.”"
      ],
      "metadata": {
        "id": "oe-uG8TtFbvc"
      }
    },
    {
      "cell_type": "code",
      "source": [
        "@app.route('/hello')\n",
        "def hello():\n",
        "    return \"Hello, World!\"\n"
      ],
      "metadata": {
        "id": "oy1Hx1fAGMdj"
      },
      "execution_count": null,
      "outputs": []
    },
    {
      "cell_type": "markdown",
      "source": [
        "When you visit /hello in the browser, Flask runs the hello() function and returns the response.\n",
        "\n",
        "In short, @app.route() is how you define routes (endpoints) in a Flask app.\n",
        "\n",
        "Q8. What is the difference between GET and POST HTTP methods?\n",
        "\n",
        "---> The GET and POST methods are two commonly used HTTP methods in RESTful APIs. GET is used to retrieve data from the server and sends parameters in the URL, making it visible in the browser and suitable for read-only operations. It is cacheable and idempotent, meaning it doesn't change any server data. On the other hand, POST is used to send data to the server, usually to create or update resources. It sends data in the request body, making it more secure for sensitive information. POST requests are not cached and are not idempotent, as each request can result in a different change on the server.\n",
        "\n",
        "Q9.  How do you handle errors in Flask APIs?\n",
        "\n",
        "---> In Flask APIs, errors are handled using:\n",
        "\n",
        "1. try-except blocks\n",
        "Used inside routes to catch and manage specific exceptions."
      ],
      "metadata": {
        "id": "dJ-tX3fOGOn8"
      }
    },
    {
      "cell_type": "code",
      "source": [
        "@app.route('/divide')\n",
        "def divide():\n",
        "    try:\n",
        "        result = 10 / 0\n",
        "        return {'result': result}\n",
        "    except ZeroDivisionError:\n",
        "        return {'error': 'Cannot divide by zero'}, 400\n"
      ],
      "metadata": {
        "id": "qRuhm61eGsfc"
      },
      "execution_count": null,
      "outputs": []
    },
    {
      "cell_type": "markdown",
      "source": [
        "2. Custom error handlers\n",
        "Use @app.errorhandler() to define responses for common HTTP errors."
      ],
      "metadata": {
        "id": "cC9fZ1LCGu7V"
      }
    },
    {
      "cell_type": "code",
      "source": [
        "@app.errorhandler(404)\n",
        "def not_found(e):\n",
        "    return {'error': 'Resource not found'}, 404\n"
      ],
      "metadata": {
        "id": "Sld54e5UGwvg"
      },
      "execution_count": null,
      "outputs": []
    },
    {
      "cell_type": "markdown",
      "source": [
        "3. Returning proper status codes and messages\n",
        "Always return meaningful messages and correct HTTP status codes."
      ],
      "metadata": {
        "id": "r-We8xz-Gz4u"
      }
    },
    {
      "cell_type": "code",
      "source": [
        "return {'error': 'Invalid input'}, 400\n"
      ],
      "metadata": {
        "id": "PPwVScYsG1Mr"
      },
      "execution_count": null,
      "outputs": []
    },
    {
      "cell_type": "markdown",
      "source": [
        "In short: Flask handles errors using try-except, custom error handlers, and proper HTTP status codes to improve API reliability and user feedback.\n",
        "\n",
        "Q10. How do you connect Flask to a SQL database?\n",
        "\n",
        "---> Configure the database URI in Flask settings.\n",
        "\n",
        "Use Flask-SQLAlchemy to define models and manage database operations.\n",
        "\n",
        "Create tables and use the ORM to add, query, and modify data.\n",
        "\n",
        "You can also connect to other databases like MySQL, PostgreSQL by changing the URI accordingly.\n",
        "\n",
        "Q11. What is the role of Flask-SQLAlchemy?\n",
        "\n",
        "---> Flask-SQLAlchemy is an extension that integrates SQLAlchemy with Flask to make working with databases easier and more Pythonic.\n",
        "\n",
        "Role of Flask-SQLAlchemy:\n",
        "Provides a simple and powerful ORM (Object-Relational Mapping) layer so you can interact with databases using Python classes instead of raw SQL queries.\n",
        "\n",
        "Manages database connections and sessions within the Flask app context.\n",
        "\n",
        "Simplifies configuration and setup of the database with Flask’s app settings.\n",
        "\n",
        "Helps with creating, querying, updating, and deleting database records through Python objects.\n",
        "\n",
        "Supports multiple databases like SQLite, MySQL, PostgreSQL, etc., by just changing the configuration.\n",
        "\n",
        "In short, Flask-SQLAlchemy bridges Flask and SQLAlchemy for smooth and efficient database operations in Flask applications.\n",
        "\n",
        "Q12. What are Flask blueprints, and how are they useful?\n",
        "\n",
        "---> Flask Blueprints are a way to organize and structure a Flask application into reusable, modular components. Each blueprint can contain its own routes, templates, static files, and other code.\n",
        "\n",
        "How they work:\n",
        "You define routes inside a blueprint, then register it with the main Flask app."
      ],
      "metadata": {
        "id": "DZ6Ar9RdG3Ey"
      }
    },
    {
      "cell_type": "code",
      "source": [
        "from flask import Blueprint\n",
        "\n",
        "user_bp = Blueprint('user', __name__)\n",
        "\n",
        "@user_bp.route('/profile')\n",
        "def profile():\n",
        "    return \"User Profile\"\n",
        "\n",
        "# In main app file\n",
        "app.register_blueprint(user_bp, url_prefix='/user')\n"
      ],
      "metadata": {
        "id": "Q1zdvmwFH4Il"
      },
      "execution_count": null,
      "outputs": []
    },
    {
      "cell_type": "markdown",
      "source": [
        "This way, URLs under /user are handled by the user_bp blueprint.\n",
        "\n",
        "Q13. What is the purpose of Flask's request object?\n",
        "\n",
        "---> Flask’s request object represents the incoming HTTP request from the client.\n",
        "\n",
        "Purpose:\n",
        "It lets you access data sent by the client, such as:\n",
        "\n",
        "Query parameters (request.args)\n",
        "\n",
        "Form data (request.form)\n",
        "\n",
        "JSON payload (request.json)\n",
        "\n",
        "Headers (request.headers)\n",
        "\n",
        "Cookies (request.cookies)\n",
        "\n",
        "Provides information about the request, like method (GET, POST), URL, and more.\n",
        "\n",
        "Used inside route functions to read what the client sent and handle it accordingly.\n",
        "\n",
        "Q14. How do you create a RESTful API endpoint using Flask?\n",
        "\n",
        "---> To create a RESTful API endpoint using Flask, you define a route with the @app.route() decorator and write a function that handles HTTP methods like GET or POST. Here’s a simple example:"
      ],
      "metadata": {
        "id": "XwirqcVWH_iT"
      }
    },
    {
      "cell_type": "code",
      "source": [
        "from flask import Flask, jsonify, request\n",
        "\n",
        "app = Flask(__name__)\n",
        "\n",
        "# Example data\n",
        "users = [\n",
        "    {'id': 1, 'name': 'Alice'},\n",
        "    {'id': 2, 'name': 'Bob'}\n",
        "]\n",
        "\n",
        "# GET endpoint to fetch all users\n",
        "@app.route('/users', methods=['GET'])\n",
        "def get_users():\n",
        "    return jsonify(users)\n",
        "\n",
        "# POST endpoint to add a new user\n",
        "@app.route('/users', methods=['POST'])\n",
        "def add_user():\n",
        "    new_user = request.json  # Get JSON data from request body\n",
        "    users.append(new_user)\n",
        "    return jsonify(new_user), 201  # 201 Created status\n",
        "\n",
        "if __name__ == '__main__':\n",
        "    app.run(debug=True)\n"
      ],
      "metadata": {
        "id": "Oq8opYouIXFF"
      },
      "execution_count": null,
      "outputs": []
    },
    {
      "cell_type": "markdown",
      "source": [
        "Q15. What is the purpose of Flask's jsonify() function?\n",
        "\n",
        "---> Flask’s jsonify() function is used to convert Python data (like dictionaries or lists) into a JSON-formatted HTTP response.\n",
        "\n",
        "Purpose:\n",
        "It serializes Python objects to JSON.\n",
        "\n",
        "Sets the correct Content-Type header (application/json) automatically.\n",
        "\n",
        "Makes it easy to return JSON responses from your Flask API endpoints.\n",
        "\n",
        "Q16. Explain Flask’s url_for() function.\n",
        "\n",
        "--->Flask’s url_for() function is used to generate URLs dynamically for a given view (function) based on its name.\n",
        "\n",
        "Why use url_for()?\n",
        "It builds URLs for your routes without hardcoding them, so if you change the route later, your links still work.\n",
        "\n",
        "It helps keep your code clean and maintainable.\n",
        "\n",
        "It can generate URLs with dynamic parts or query parameters.\n",
        "\n",
        "Q17. How does Flask handle static files (CSS, JavaScript, etc.)?\n",
        "\n",
        "---> Flask handles static files (like CSS, JavaScript, images) using a special folder named static in your project directory.\n",
        "\n",
        "How it works:\n",
        "By default, Flask serves files placed inside the static folder at the URL path /static/.\n",
        "\n",
        "For example, a file static/style.css can be accessed in the browser at /static/style.css.\n",
        "\n",
        "How to use in templates:\n",
        "You can link static files using url_for('static', filename='style.css') in your HTML:\n"
      ],
      "metadata": {
        "id": "QDhnJknuIYwF"
      }
    },
    {
      "cell_type": "code",
      "source": [
        "<link rel=\"stylesheet\" href=\"{{ url_for('static', filename='style.css') }}\">\n"
      ],
      "metadata": {
        "id": "iPG7KFEqI5xc"
      },
      "execution_count": null,
      "outputs": []
    },
    {
      "cell_type": "markdown",
      "source": [
        "Q18. What is an API specification, and how does it help in building a Flask API?\n",
        "\n",
        "---> An API specification is a detailed, formal document or blueprint that describes how an API works — including its endpoints, request methods, input/output formats, authentication, and error handling. It defines what the API expects and returns, often using standards like OpenAPI (Swagger).\n",
        "\n",
        "How it helps in building a Flask API:\n",
        "Clear contract: Provides a clear guide for developers on how to design and implement the API endpoints.\n",
        "\n",
        "Consistency: Ensures all routes follow a consistent structure and data format.\n",
        "\n",
        "Collaboration: Helps front-end and back-end teams work together by agreeing on the API behavior upfront.\n",
        "\n",
        "Validation & Testing: Enables automatic validation of requests/responses and easier automated testing.\n",
        "\n",
        "Documentation: Can be used to generate API docs for users.\n",
        "\n",
        "Q19. What are HTTP status codes, and why are they important in a Flask API?\n",
        "\n",
        "---> HTTP status codes are standardized numeric codes sent by a server in response to a client’s request, indicating the result of that request.\n",
        "\n",
        "Why are they important in a Flask API?\n",
        "Communicate outcome: They tell the client if the request was successful, failed, or needs further action (e.g., 200 OK, 404 Not Found, 500 Internal Server Error).\n",
        "\n",
        "Help clients handle responses: Clients can decide what to do based on the status code (retry, show error, etc.).\n",
        "\n",
        "Improve API clarity: Clear status codes make APIs easier to understand and debug.\n",
        "\n",
        "Support RESTful principles: Using proper status codes is a key part of REST API design.\n",
        "\n",
        "Q20. How do you handle POST requests in Flask?\n",
        "\n",
        "--->To handle POST requests in Flask, you:\n",
        "\n",
        "Define a route with methods=['POST'] in the @app.route() decorator.\n",
        "\n",
        "Use Flask’s request object to access the data sent by the client (e.g., form data or JSON)."
      ],
      "metadata": {
        "id": "PUgT44tbI6Z2"
      }
    },
    {
      "cell_type": "code",
      "source": [
        "from flask import Flask, request, jsonify\n",
        "\n",
        "app = Flask(__name__)\n",
        "\n",
        "@app.route('/submit', methods=['POST'])\n",
        "def submit():\n",
        "    data = request.json  # Get JSON payload sent in the request body\n",
        "    # Process data here\n",
        "    return jsonify({'message': 'Data received', 'data': data}), 201\n"
      ],
      "metadata": {
        "id": "uj9UxZcoJn-y"
      },
      "execution_count": null,
      "outputs": []
    },
    {
      "cell_type": "markdown",
      "source": [
        "Q21. How would you secure a Flask API?\n",
        "\n",
        "--->Securing a Flask API involves multiple layers of protection. Here are key ways to secure it:\n",
        "\n",
        "Authentication & Authorization\n",
        "Use methods like API keys, OAuth, or JWT (JSON Web Tokens) to verify and control who can access your API.\n",
        "\n",
        "Use HTTPS\n",
        "Always serve your API over HTTPS to encrypt data in transit and prevent eavesdropping.\n",
        "\n",
        "Input Validation & Sanitization\n",
        "Validate and sanitize all incoming data to prevent injection attacks (SQL injection, XSS).\n",
        "\n",
        "Rate Limiting\n",
        "Implement rate limiting (e.g., with Flask-Limiter) to prevent abuse and DDoS attacks.\n",
        "\n",
        "Error Handling\n",
        "Avoid exposing sensitive information in error messages.\n",
        "\n",
        "Q22. What is the significance of the Flask-RESTful extension?\n",
        "\n",
        "--->The Flask-RESTful extension is designed to simplify building RESTful APIs with Flask by providing useful tools and abstractions.\n",
        "\n",
        "Significance of Flask-RESTful:\n",
        "Resource-based routing: Lets you define API endpoints as classes (resources) instead of just functions, making code more organized.\n",
        "\n",
        "Built-in request parsing: Provides easy ways to parse and validate input data with reqparse.\n",
        "\n",
        "Automatic HTTP method handling: Supports methods like GET, POST, PUT, DELETE within resource classes cleanly.\n",
        "\n",
        "Better response formatting: Helps return JSON responses easily with proper status codes.\n",
        "\n",
        "Error handling: Simplifies handling and customizing API errors.\n",
        "\n",
        "Q23. What is the role of Flask’s session object?\n",
        "\n",
        "--->Flask’s session object is used to store data specific to a user’s session between requests. It allows you to keep information (like user login status, preferences, or temporary data) across multiple requests without needing a database for short-term storage.\n",
        "\n",
        "Key points about session:\n",
        "Data is stored client-side in a secure cookie (signed to prevent tampering).\n",
        "\n",
        "You can save small amounts of data, such as user IDs or flags.\n",
        "\n",
        "Useful for implementing features like user authentication, shopping carts, or flash messages.\n",
        "\n",
        "#Practical\n",
        "Q1.  How do you create a basic Flask application?\n",
        "\n",
        "Creating a basic Flask application is simple. Here’s how you do it step-by-step:\n",
        "\n",
        "Install Flask (if not already installed):\n",
        "\n",
        "\n"
      ],
      "metadata": {
        "id": "cMu2bMU6Joj5"
      }
    },
    {
      "cell_type": "code",
      "source": [
        "pip install flask\n"
      ],
      "metadata": {
        "id": "KLfZ5zAvK-kU"
      },
      "execution_count": null,
      "outputs": []
    },
    {
      "cell_type": "markdown",
      "source": [
        "Create a Python file (e.g., app.py) with this code:"
      ],
      "metadata": {
        "id": "kDKn2NHZK_FI"
      }
    },
    {
      "cell_type": "code",
      "source": [
        "from flask import Flask\n",
        "\n",
        "app = Flask(__name__)\n",
        "\n",
        "@app.route('/')\n",
        "def home():\n",
        "    return \"Hello, Flask!\"\n",
        "\n",
        "if __name__ == '__main__':\n",
        "    app.run(debug=True)\n"
      ],
      "metadata": {
        "id": "4ewAWMeGLA6c"
      },
      "execution_count": null,
      "outputs": []
    },
    {
      "cell_type": "markdown",
      "source": [
        "Run the application:"
      ],
      "metadata": {
        "id": "ho3_M-pkLENJ"
      }
    },
    {
      "cell_type": "code",
      "source": [
        "python app.py\n"
      ],
      "metadata": {
        "id": "jGJDPWVjLFi8"
      },
      "execution_count": null,
      "outputs": []
    },
    {
      "cell_type": "markdown",
      "source": [
        "Open your browser and go to http://127.0.0.1:5000/ to see the message \"Hello, Flask!\"\n",
        "\n",
        "Q2. How do you serve static files like images or CSS in Flask?\n",
        "\n",
        "---> In Flask, static files like images, CSS, and JavaScript are served from a special folder named static by default.\n",
        "\n",
        "How to serve static files:\n",
        "Place your files inside a folder called static in your project directory. For example:"
      ],
      "metadata": {
        "id": "sXAUkieULHSp"
      }
    },
    {
      "cell_type": "code",
      "source": [
        "/static/style.css\n",
        "/static/logo.png\n"
      ],
      "metadata": {
        "id": "C_f6FcpxLUrJ"
      },
      "execution_count": null,
      "outputs": []
    },
    {
      "cell_type": "markdown",
      "source": [
        "Access them in your app via the URL path /static/filename. For example:\n",
        "\n",
        "http://localhost:5000/static/style.css\n",
        "\n",
        "http://localhost:5000/static/logo.png\n",
        "\n",
        "\n",
        "Use url_for in templates to link static files safely:\n",
        "\n",
        "\n"
      ],
      "metadata": {
        "id": "VGmzC1Q6LXvT"
      }
    },
    {
      "cell_type": "code",
      "source": [
        "<link rel=\"stylesheet\" href=\"{{ url_for('static', filename='style.css') }}\">\n",
        "<img src=\"{{ url_for('static', filename='logo.png') }}\" alt=\"Logo\">\n"
      ],
      "metadata": {
        "id": "Pybbsox7LcWT"
      },
      "execution_count": null,
      "outputs": []
    },
    {
      "cell_type": "markdown",
      "source": [
        "Q3.  How do you define different routes with different HTTP methods in Flask?\n",
        "\n",
        "--->In Flask, you define routes with different HTTP methods by specifying the methods parameter in the @app.route() decorator."
      ],
      "metadata": {
        "id": "NL90gJnmLiek"
      }
    },
    {
      "cell_type": "code",
      "source": [
        "from flask import Flask, request\n",
        "\n",
        "app = Flask(__name__)\n",
        "\n",
        "@app.route('/item', methods=['GET'])\n",
        "def get_item():\n",
        "    return \"This is a GET request\"\n",
        "\n",
        "@app.route('/item', methods=['POST'])\n",
        "def create_item():\n",
        "    data = request.json\n",
        "    return f\"Received data: {data}\", 201\n"
      ],
      "metadata": {
        "id": "zFVzqd6bLsms"
      },
      "execution_count": null,
      "outputs": []
    },
    {
      "cell_type": "markdown",
      "source": [
        "Q4. How do you render HTML templates in Flask?\n",
        "\n",
        "--->"
      ],
      "metadata": {
        "id": "1kn41CULLvnK"
      }
    },
    {
      "cell_type": "code",
      "source": [
        "from flask import Flask, render_template\n",
        "\n",
        "app = Flask(__name__)\n",
        "\n",
        "@app.route('/')\n",
        "def home():\n",
        "    return render_template('index.html')\n",
        "\n",
        "if __name__ == '__main__':\n",
        "    app.run(debug=True)\n"
      ],
      "metadata": {
        "id": "JedUZCn7MFVQ"
      },
      "execution_count": null,
      "outputs": []
    },
    {
      "cell_type": "markdown",
      "source": [
        "Q5. How can you generate URLs for routes in Flask using url_for?"
      ],
      "metadata": {
        "id": "gg69MTYGMF3I"
      }
    },
    {
      "cell_type": "code",
      "source": [
        "from flask import Flask, url_for\n",
        "\n",
        "app = Flask(__name__)\n",
        "\n",
        "@app.route('/user/<username>')\n",
        "def profile(username):\n",
        "    return f\"User: {username}\"\n",
        "\n",
        "with app.test_request_context():\n",
        "    print(url_for('profile', username='alice'))  # Output: /user/alice\n",
        "\n",
        "if __name__ == '__main__':\n",
        "    app.run(debug=True)\n"
      ],
      "metadata": {
        "id": "NZYQTilYMMvg"
      },
      "execution_count": null,
      "outputs": []
    },
    {
      "cell_type": "markdown",
      "source": [
        "Q6. How do you handle forms in Flask?"
      ],
      "metadata": {
        "id": "5vpTg9kGMNYN"
      }
    },
    {
      "cell_type": "code",
      "source": [
        "from flask import Flask, request, render_template\n",
        "\n",
        "app = Flask(__name__)\n",
        "\n",
        "@app.route('/form', methods=['GET', 'POST'])\n",
        "def form():\n",
        "    if request.method == 'POST':\n",
        "        name = request.form.get('name')\n",
        "        return f\"Hello, {name}!\"\n",
        "    return render_template('form.html')\n",
        "\n",
        "if __name__ == '__main__':\n",
        "    app.run(debug=True)\n"
      ],
      "metadata": {
        "id": "QGXE9NbEMUMu"
      },
      "execution_count": null,
      "outputs": []
    },
    {
      "cell_type": "markdown",
      "source": [
        "Q7.  How can you validate form data in Flask?\n",
        "\n",
        "--->"
      ],
      "metadata": {
        "id": "7KMIZUvYMe0C"
      }
    },
    {
      "cell_type": "code",
      "source": [
        "from flask import Flask, request, render_template, flash, redirect, url_for\n",
        "from flask_wtf import FlaskForm\n",
        "from wtforms import StringField, SubmitField\n",
        "from wtforms.validators import DataRequired, Length\n",
        "\n",
        "app = Flask(__name__)\n",
        "app.secret_key = 'your_secret_key'  # Needed for Flask-WTF CSRF protection and flashing\n",
        "\n",
        "class NameForm(FlaskForm):\n",
        "    name = StringField('Name', validators=[DataRequired(), Length(min=2, max=20)])\n",
        "    submit = SubmitField('Submit')\n",
        "\n",
        "@app.route('/form', methods=['GET', 'POST'])\n",
        "def form():\n",
        "    form = NameForm()\n",
        "    if form.validate_on_submit():\n",
        "        name = form.name.data\n",
        "        flash(f'Hello, {name}!', 'success')\n",
        "        return redirect(url_for('form'))\n",
        "    return render_template('form.html', form=form)\n",
        "\n",
        "if __name__ == '__main__':\n",
        "    app.run(debug=True)\n"
      ],
      "metadata": {
        "id": "qKSvtf5hMpdU"
      },
      "execution_count": null,
      "outputs": []
    },
    {
      "cell_type": "markdown",
      "source": [
        "And the templates/form.html:"
      ],
      "metadata": {
        "id": "rDtEufjqMt6a"
      }
    },
    {
      "cell_type": "code",
      "source": [
        "<!doctype html>\n",
        "<html>\n",
        "  <body>\n",
        "    {% with messages = get_flashed_messages(with_categories=true) %}\n",
        "      {% if messages %}\n",
        "        <ul>\n",
        "          {% for category, message in messages %}\n",
        "            <li class=\"{{ category }}\">{{ message }}</li>\n",
        "          {% endfor %}\n",
        "        </ul>\n",
        "      {% endif %}\n",
        "    {% endwith %}\n",
        "\n",
        "    <form method=\"POST\">\n",
        "      {{ form.hidden_tag() }}\n",
        "      {{ form.name.label }} {{ form.name(size=20) }}\n",
        "      {% for error in form.name.errors %}\n",
        "        <span style=\"color: red;\">[{{ error }}]</span>\n",
        "      {% endfor %}\n",
        "      {{ form.submit() }}\n",
        "    </form>\n",
        "  </body>\n",
        "</html>\n"
      ],
      "metadata": {
        "id": "lWEsIbFFMvlZ"
      },
      "execution_count": null,
      "outputs": []
    },
    {
      "cell_type": "markdown",
      "source": [
        "Q8. How do you manage sessions in Flask?\n",
        "\n",
        "--->"
      ],
      "metadata": {
        "id": "VnsyxFAcM1_o"
      }
    },
    {
      "cell_type": "code",
      "source": [
        "from flask import Flask, session, redirect, url_for, request\n",
        "\n",
        "app = Flask(__name__)\n",
        "app.secret_key = 'your_secret_key'  # Required to use sessions\n",
        "\n",
        "@app.route('/login', methods=['POST'])\n",
        "def login():\n",
        "    username = request.form['username']\n",
        "    session['username'] = username  # Store username in session\n",
        "    return f\"Logged in as {username}\"\n",
        "\n",
        "@app.route('/profile')\n",
        "def profile():\n",
        "    if 'username' in session:\n",
        "        return f\"Welcome, {session['username']}!\"\n",
        "    return redirect(url_for('login'))\n",
        "\n",
        "@app.route('/logout')\n",
        "def logout():\n",
        "    session.pop('username', None)  # Remove username from session\n",
        "    return \"You have been logged out.\"\n",
        "\n",
        "if __name__ == '__main__':\n",
        "    app.run(debug=True)\n"
      ],
      "metadata": {
        "id": "uF4ZEMrjNCRV"
      },
      "execution_count": null,
      "outputs": []
    },
    {
      "cell_type": "markdown",
      "source": [
        "Q9. How do you redirect to a different route in Flask?\n",
        "\n"
      ],
      "metadata": {
        "id": "qhXzlmDJNC3U"
      }
    },
    {
      "cell_type": "code",
      "source": [
        "from flask import Flask, redirect, url_for\n",
        "\n",
        "app = Flask(__name__)\n",
        "\n",
        "@app.route('/')\n",
        "def home():\n",
        "    return \"Home Page\"\n",
        "\n",
        "@app.route('/go-to-home')\n",
        "def go_to_home():\n",
        "    return redirect(url_for('home'))\n",
        "\n",
        "if __name__ == '__main__':\n",
        "    app.run(debug=True)\n"
      ],
      "metadata": {
        "id": "1sfHsUNZNJUH"
      },
      "execution_count": null,
      "outputs": []
    },
    {
      "cell_type": "markdown",
      "source": [
        "Q10. How do you handle errors in Flask (e.g., 404)?\n",
        "\n"
      ],
      "metadata": {
        "id": "8O6SjIh6NJ1i"
      }
    },
    {
      "cell_type": "code",
      "source": [
        "from flask import Flask, render_template\n",
        "\n",
        "app = Flask(__name__)\n",
        "\n",
        "@app.errorhandler(404)\n",
        "def page_not_found(e):\n",
        "    return render_template('404.html'), 404\n",
        "\n",
        "if __name__ == '__main__':\n",
        "    app.run(debug=True)\n"
      ],
      "metadata": {
        "id": "geulfWIONTUW"
      },
      "execution_count": null,
      "outputs": []
    },
    {
      "cell_type": "code",
      "source": [
        "<!doctype html>\n",
        "<html>\n",
        "  <body>\n",
        "    <h1>404 Error</h1>\n",
        "    <p>Sorry, the page you requested was not found.</p>\n",
        "  </body>\n",
        "</html>\n"
      ],
      "metadata": {
        "id": "-Sn6qZO2NU0A"
      },
      "execution_count": null,
      "outputs": []
    },
    {
      "cell_type": "markdown",
      "source": [
        "Q11.  How do you structure a Flask app using Blueprints?\n",
        "\n"
      ],
      "metadata": {
        "id": "xOphsayJNVv3"
      }
    },
    {
      "cell_type": "code",
      "source": [
        "# app.py\n",
        "from flask import Flask\n",
        "from user_routes import user_bp\n",
        "\n",
        "app = Flask(__name__)\n",
        "app.register_blueprint(user_bp, url_prefix='/users')\n",
        "\n",
        "@app.route('/')\n",
        "def home():\n",
        "    return \"Home Page\"\n",
        "\n",
        "if __name__ == '__main__':\n",
        "    app.run(debug=True)\n"
      ],
      "metadata": {
        "id": "j1x-wMsENdwY"
      },
      "execution_count": null,
      "outputs": []
    },
    {
      "cell_type": "code",
      "source": [
        "# user_routes.py\n",
        "from flask import Blueprint\n",
        "\n",
        "user_bp = Blueprint('user', __name__)\n",
        "\n",
        "@user_bp.route('/')\n",
        "def user_home():\n",
        "    return \"User Home\"\n",
        "\n",
        "@user_bp.route('/profile')\n",
        "def profile():\n",
        "    return \"User Profile\"\n"
      ],
      "metadata": {
        "id": "Iz-4lUQnNfRF"
      },
      "execution_count": null,
      "outputs": []
    },
    {
      "cell_type": "markdown",
      "source": [
        "Q12. How do you define a custom Jinja filter in Flask?\n",
        "\n"
      ],
      "metadata": {
        "id": "73wlmiphNftn"
      }
    },
    {
      "cell_type": "code",
      "source": [
        "from flask import Flask\n",
        "\n",
        "app = Flask(__name__)\n",
        "\n",
        "# Define a custom filter function\n",
        "def reverse_string(s):\n",
        "    return s[::-1]\n",
        "\n",
        "# Register the custom filter with Flask\n",
        "app.jinja_env.filters['reverse'] = reverse_string\n",
        "\n",
        "@app.route('/')\n",
        "def home():\n",
        "    sample_text = \"Hello Flask\"\n",
        "    return f\"Original: {sample_text} | Reversed: {{ sample_text | reverse }}\"\n",
        "\n",
        "if __name__ == '__main__':\n",
        "    app.run(debug=True)\n"
      ],
      "metadata": {
        "id": "ytDA4KaVNnQD"
      },
      "execution_count": null,
      "outputs": []
    },
    {
      "cell_type": "markdown",
      "source": [
        "To use the filter in a template (templates/index.html):"
      ],
      "metadata": {
        "id": "zQfyqrHLNpIZ"
      }
    },
    {
      "cell_type": "code",
      "source": [
        "<!doctype html>\n",
        "<html>\n",
        "  <body>\n",
        "    <p>Original: {{ sample_text }}</p>\n",
        "    <p>Reversed: {{ sample_text | reverse }}</p>\n",
        "  </body>\n",
        "</html>\n"
      ],
      "metadata": {
        "id": "tLavGDlrNppb"
      },
      "execution_count": null,
      "outputs": []
    },
    {
      "cell_type": "markdown",
      "source": [
        "And update the route to render the template:"
      ],
      "metadata": {
        "id": "2Tql1wQRNsXy"
      }
    },
    {
      "cell_type": "code",
      "source": [
        "from flask import render_template\n",
        "\n",
        "@app.route('/')\n",
        "def home():\n",
        "    sample_text = \"Hello Flask\"\n",
        "    return render_template('index.html', sample_text=sample_text)\n"
      ],
      "metadata": {
        "id": "ZK6FYq9mNtmh"
      },
      "execution_count": null,
      "outputs": []
    },
    {
      "cell_type": "markdown",
      "source": [
        "Q13. How can you redirect with query parameters in Flask?\n",
        "\n"
      ],
      "metadata": {
        "id": "yAKmiP_ONxto"
      }
    },
    {
      "cell_type": "code",
      "source": [
        "from flask import Flask, redirect, url_for\n",
        "\n",
        "app = Flask(__name__)\n",
        "\n",
        "@app.route('/search')\n",
        "def search():\n",
        "    # Imagine this shows search results based on query parameter 'q'\n",
        "    return \"Search results page\"\n",
        "\n",
        "@app.route('/go-search')\n",
        "def go_search():\n",
        "    # Redirect to /search with query parameter q=flask\n",
        "    return redirect(url_for('search', q='flask'))\n",
        "\n",
        "if __name__ == '__main__':\n",
        "    app.run(debug=True)\n"
      ],
      "metadata": {
        "id": "wKbz52nXN2Ji"
      },
      "execution_count": null,
      "outputs": []
    },
    {
      "cell_type": "markdown",
      "source": [
        "Q14. How do you return JSON responses in Flask?\n"
      ],
      "metadata": {
        "id": "gm_5S0MXN2ws"
      }
    },
    {
      "cell_type": "code",
      "source": [
        "from flask import Flask, jsonify\n",
        "\n",
        "app = Flask(__name__)\n",
        "\n",
        "@app.route('/api/data')\n",
        "def data():\n",
        "    response = {\n",
        "        'name': 'Alice',\n",
        "        'age': 30,\n",
        "        'city': 'New York'\n",
        "    }\n",
        "    return jsonify(response)\n",
        "\n",
        "if __name__ == '__main__':\n",
        "    app.run(debug=True)\n"
      ],
      "metadata": {
        "id": "AvP29BdXN9sx"
      },
      "execution_count": null,
      "outputs": []
    },
    {
      "cell_type": "markdown",
      "source": [
        "Q15. How do you capture URL parameters in Flask?"
      ],
      "metadata": {
        "id": "KxaW6k_aN-YF"
      }
    },
    {
      "cell_type": "code",
      "source": [
        "from flask import Flask\n",
        "\n",
        "app = Flask(__name__)\n",
        "\n",
        "@app.route('/user/<username>')\n",
        "def user_profile(username):\n",
        "    return f\"Profile page of {username}\"\n",
        "\n",
        "@app.route('/post/<int:post_id>')\n",
        "def show_post(post_id):\n",
        "    return f\"Showing post with ID: {post_id}\"\n",
        "\n",
        "if __name__ == '__main__':\n",
        "    app.run(debug=True)\n"
      ],
      "metadata": {
        "id": "Gi-4ArQgOHwG"
      },
      "execution_count": null,
      "outputs": []
    }
  ]
}